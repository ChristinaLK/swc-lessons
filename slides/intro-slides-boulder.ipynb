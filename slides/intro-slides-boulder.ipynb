{
 "metadata": {
  "celltoolbar": "Slideshow",
  "name": "",
  "signature": "sha256:38e0a197d2d960c494631ea131b95ec17c57389ebbf6384aeca4ddddd7d8c3ef"
 },
 "nbformat": 3,
 "nbformat_minor": 0,
 "worksheets": [
  {
   "cells": [
    {
     "cell_type": "markdown",
     "metadata": {
      "slideshow": {
       "slide_type": "notes"
      }
     },
     "source": [
      "SWC bootcamp intro slide deck\n",
      "\n",
      "Developed by Christina Koch and Bernhard Konrad"
     ]
    },
    {
     "cell_type": "markdown",
     "metadata": {
      "slideshow": {
       "slide_type": "slide"
      }
     },
     "source": [
      "<div align=\"center\"><font size=\"26\">Hello and welcome to</font></div>\n",
      "<div align=\"center\"><img src=\"http://www.data2semantics.org/bootcamp/img/software-carpentry-logo.png\" width=\"40%\" height=\"40%\"/></div>"
     ]
    },
    {
     "cell_type": "markdown",
     "metadata": {
      "slideshow": {
       "slide_type": "notes"
      }
     },
     "source": [
      "There's nothing wrong with learning things on your own.  However, it is likely that learning about computers on your own means that there are gaps in your knowledge - things you just don't know, or ways in which you are not using your computing tools most effectively."
     ]
    },
    {
     "cell_type": "markdown",
     "metadata": {
      "slideshow": {
       "slide_type": "slide"
      }
     },
     "source": [
      "\n",
      "\n",
      "###What are we doing here?"
     ]
    },
    {
     "cell_type": "markdown",
     "metadata": {
      "slideshow": {
       "slide_type": "notes"
      }
     },
     "source": [
      "Software Carpentry exists to fix, or at least improve this situation, by giving scientists formal instruction in computing tools.  The following video - while not directly about computers - captures the philosophy that we're trying to share.  \n",
      "\n",
      "Warning: bit of swearing\n",
      "\n",
      "(Can start the video below around ~1:00 if you're short on time)"
     ]
    },
    {
     "cell_type": "markdown",
     "metadata": {
      "slideshow": {
       "slide_type": "slide"
      }
     },
     "source": [
      "##The Height of Functionality\n",
      "\n",
      "<iframe src=\"//player.vimeo.com/video/68558518\" width=\"500\" height=\"281\" frameborder=\"0\" webkitallowfullscreen mozallowfullscreen allowfullscreen></iframe> <p><a href=\"http://vimeo.com/68558518\">GIZMODO - The Wildly Functional Studio of Video Wizard Casey Neistat, Part 1</a> from <a href=\"http://vimeo.com/gizmodo\">Gizmodo</a> on <a href=\"https://vimeo.com\">Vimeo</a>.</p>"
     ]
    },
    {
     "cell_type": "markdown",
     "metadata": {
      "slideshow": {
       "slide_type": "subslide"
      }
     },
     "source": [
      "<font size=\"6\">...so every minute that I spend looking for, like, velcro tape, or my drill gun, is a minute I\u2019m not doing something productive so why not build an infrastructure that supports that rather than encourages the chaos. </font>\n",
      "\n",
      "<br>\n",
      "\n",
      "<font size=\"6\"> The tool area looks the way it looks not because I think it looks cool but because that's the height of functionality. </font>"
     ]
    },
    {
     "cell_type": "markdown",
     "metadata": {
      "slideshow": {
       "slide_type": "notes"
      }
     },
     "source": [
      "What does this have to do with computing?  Just like Casey Neistat has organized his studio in a way that optimizes his productivity, our goal is to \"organize\" your computer in a way that allows you to be the most productive (could include, reproducible, etc.) scientist you can be.  "
     ]
    },
    {
     "cell_type": "markdown",
     "metadata": {
      "slideshow": {
       "slide_type": "subslide"
      }
     },
     "source": [
      "###studio space for scientist, statistician, mathematician, etc... = a computer"
     ]
    },
    {
     "cell_type": "markdown",
     "metadata": {
      "slideshow": {
       "slide_type": "slide"
      }
     },
     "source": [
      "### Software Carpentry's goal is to \"teach researchers in science, engineering, medicine, and related disciplines the computing skills they need to get more done in less time, and with less pain.\"\n"
     ]
    },
    {
     "cell_type": "markdown",
     "metadata": {
      "slideshow": {
       "slide_type": "subslide"
      }
     },
     "source": [
      "###Today we will be learning about..."
     ]
    },
    {
     "cell_type": "markdown",
     "metadata": {
      "slideshow": {
       "slide_type": "fragment"
      }
     },
     "source": [
      "* organization schemes (automation, version control)\n",
      "* tool-building (scripting, programming)\n",
      "* tools (python, shell, git)"
     ]
    },
    {
     "cell_type": "markdown",
     "metadata": {
      "slideshow": {
       "slide_type": "notes"
      }
     },
     "source": [
      "So like Casey Neistat's studio, we'll be organizing, giving you some tools, and the ability to create your own tools.  Note that the order of this list is deliberate - this is not a \"python\" workshop or a \"git\" workshop.  More tools without processes will just be more crap in your studio, your computer.  We'll be learning about these tools as part of our workshop, but we'll be focusing more on processes and ways of thinking that can transform the way you interact with your tools and which tools you use.  Best practice is our byword here.  "
     ]
    },
    {
     "cell_type": "markdown",
     "metadata": {
      "slideshow": {
       "slide_type": "fragment"
      }
     },
     "source": [
      "in order to...\n",
      "\n",
      "* automate repetitive tasks\n",
      "* track and share work\n",
      "* build programs in a modular, testable, and reusable way"
     ]
    },
    {
     "cell_type": "markdown",
     "metadata": {
      "slideshow": {
       "slide_type": "notes"
      }
     },
     "source": [
      "On the ground, these are things you should be able to do at the end of the workshop - or at least know how to do them and be convinced that they are best practices.  \n",
      "\n",
      "Obviously, these are quite lofty goals, and (fellow instructors) and I are not \"professional\" instructors, although we all have training and experience in doing this kind of thing.  Also, you all (usually) come from different backgrounds and experience levels, so there will be times today where you are lost or bored or both.  We'll try to find a pace that works for most people, and teach in such a way that we achieve these goals of competency with you.  Just know that we're in this learning experience together, trying to make it work for everyone.  My goal, at the end of our two days, is to have given you enough information that you can go on and keep learning on your own, and enough reasons for these practices that you actually go out and implement them.  "
     ]
    },
    {
     "cell_type": "markdown",
     "metadata": {
      "slideshow": {
       "slide_type": "slide"
      }
     },
     "source": [
      "##Housekeeping\n",
      "\n"
     ]
    },
    {
     "cell_type": "markdown",
     "metadata": {
      "slideshow": {
       "slide_type": "subslide"
      }
     },
     "source": [
      "###Code of Conduct"
     ]
    },
    {
     "cell_type": "markdown",
     "metadata": {
      "slideshow": {
       "slide_type": "subslide"
      }
     },
     "source": [
      "###Tools\n",
      "\n",
      "Things you will probably want to have open:\n",
      "\n",
      "* Workshop git repository\n",
      "* Workshop etherpad\n",
      "* Command line window (terminal or git bash)\n",
      "* Note-taking device (if desired, all material will be available online afterwards)\n",
      "\n",
      "<img src=\"http://rebeccaberto.files.wordpress.com/2012/07/twitter-bird.jpg\" width=\"10%\" height=\"10%\"/> If you're on twitter *(not during a lesson, of course)*, tweet at @swcarpentry or use the hashtag #SWCBoulder.  "
     ]
    },
    {
     "cell_type": "markdown",
     "metadata": {
      "slideshow": {
       "slide_type": "subslide"
      }
     },
     "source": [
      "###Sticky Notes\n",
      "\n",
      "Easy visual feedback for instructors.\n",
      "\n",
      "* <font color=\"brown\">If you are lost, confused, or need help, put the yellow sticky up on your laptop.</font>\n",
      "* <font color=\"green\">If all is well, put up the green sticky.</font>\n",
      "\n",
      "*Please ask questions immediately. If you're confused, probably someone else is as well.*\n"
     ]
    },
    {
     "cell_type": "markdown",
     "metadata": {
      "slideshow": {
       "slide_type": "subslide"
      }
     },
     "source": [
      "###Today's plan\n",
      "\n",
      "* Morning: Using the command line\n",
      "* Break for lunch\n",
      "* Afternoon: Introduction to version control with Git and introduction to programming in python.  "
     ]
    }
   ],
   "metadata": {}
  }
 ]
}